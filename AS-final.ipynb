{
  "nbformat": 4,
  "nbformat_minor": 0,
  "metadata": {
    "colab": {
      "name": "AS.ipynb",
      "provenance": [],
      "collapsed_sections": [],
      "authorship_tag": "ABX9TyNJi0HbM3lzibXoggTFAc93",
      "include_colab_link": true
    },
    "kernelspec": {
      "name": "python3",
      "display_name": "Python 3"
    },
    "widgets": {
      "application/vnd.jupyter.widget-state+json": {
        "f586e3b566d1439a87d30ec47896dcbd": {
          "model_module": "@jupyter-widgets/controls",
          "model_name": "HBoxModel",
          "state": {
            "_view_name": "HBoxView",
            "_dom_classes": [],
            "_model_name": "HBoxModel",
            "_view_module": "@jupyter-widgets/controls",
            "_model_module_version": "1.5.0",
            "_view_count": null,
            "_view_module_version": "1.5.0",
            "box_style": "",
            "layout": "IPY_MODEL_125e77485f294e90af10f51a9406888f",
            "_model_module": "@jupyter-widgets/controls",
            "children": [
              "IPY_MODEL_d078a64473194ce095b9ab1dcb46b9a4",
              "IPY_MODEL_7b8dcca9e0564fe3a7b52f9178ee465a"
            ]
          }
        },
        "125e77485f294e90af10f51a9406888f": {
          "model_module": "@jupyter-widgets/base",
          "model_name": "LayoutModel",
          "state": {
            "_view_name": "LayoutView",
            "grid_template_rows": null,
            "right": null,
            "justify_content": null,
            "_view_module": "@jupyter-widgets/base",
            "overflow": null,
            "_model_module_version": "1.2.0",
            "_view_count": null,
            "flex_flow": null,
            "width": null,
            "min_width": null,
            "border": null,
            "align_items": null,
            "bottom": null,
            "_model_module": "@jupyter-widgets/base",
            "top": null,
            "grid_column": null,
            "overflow_y": null,
            "overflow_x": null,
            "grid_auto_flow": null,
            "grid_area": null,
            "grid_template_columns": null,
            "flex": null,
            "_model_name": "LayoutModel",
            "justify_items": null,
            "grid_row": null,
            "max_height": null,
            "align_content": null,
            "visibility": null,
            "align_self": null,
            "height": null,
            "min_height": null,
            "padding": null,
            "grid_auto_rows": null,
            "grid_gap": null,
            "max_width": null,
            "order": null,
            "_view_module_version": "1.2.0",
            "grid_template_areas": null,
            "object_position": null,
            "object_fit": null,
            "grid_auto_columns": null,
            "margin": null,
            "display": null,
            "left": null
          }
        },
        "d078a64473194ce095b9ab1dcb46b9a4": {
          "model_module": "@jupyter-widgets/controls",
          "model_name": "IntProgressModel",
          "state": {
            "_view_name": "ProgressView",
            "style": "IPY_MODEL_a877fc907f99486abee67213363bbfee",
            "_dom_classes": [],
            "description": "100%",
            "_model_name": "IntProgressModel",
            "bar_style": "success",
            "max": 30,
            "_view_module": "@jupyter-widgets/controls",
            "_model_module_version": "1.5.0",
            "value": 30,
            "_view_count": null,
            "_view_module_version": "1.5.0",
            "orientation": "horizontal",
            "min": 0,
            "description_tooltip": null,
            "_model_module": "@jupyter-widgets/controls",
            "layout": "IPY_MODEL_fa304efbb4e7451e8ace13af990128b7"
          }
        },
        "7b8dcca9e0564fe3a7b52f9178ee465a": {
          "model_module": "@jupyter-widgets/controls",
          "model_name": "HTMLModel",
          "state": {
            "_view_name": "HTMLView",
            "style": "IPY_MODEL_71a1650586784d058fec80935c358d2e",
            "_dom_classes": [],
            "description": "",
            "_model_name": "HTMLModel",
            "placeholder": "​",
            "_view_module": "@jupyter-widgets/controls",
            "_model_module_version": "1.5.0",
            "value": " 30/30 [00:12&lt;00:00,  2.34it/s]",
            "_view_count": null,
            "_view_module_version": "1.5.0",
            "description_tooltip": null,
            "_model_module": "@jupyter-widgets/controls",
            "layout": "IPY_MODEL_36b90fa30baa45d7a81ba693ee8e1600"
          }
        },
        "a877fc907f99486abee67213363bbfee": {
          "model_module": "@jupyter-widgets/controls",
          "model_name": "ProgressStyleModel",
          "state": {
            "_view_name": "StyleView",
            "_model_name": "ProgressStyleModel",
            "description_width": "initial",
            "_view_module": "@jupyter-widgets/base",
            "_model_module_version": "1.5.0",
            "_view_count": null,
            "_view_module_version": "1.2.0",
            "bar_color": null,
            "_model_module": "@jupyter-widgets/controls"
          }
        },
        "fa304efbb4e7451e8ace13af990128b7": {
          "model_module": "@jupyter-widgets/base",
          "model_name": "LayoutModel",
          "state": {
            "_view_name": "LayoutView",
            "grid_template_rows": null,
            "right": null,
            "justify_content": null,
            "_view_module": "@jupyter-widgets/base",
            "overflow": null,
            "_model_module_version": "1.2.0",
            "_view_count": null,
            "flex_flow": null,
            "width": null,
            "min_width": null,
            "border": null,
            "align_items": null,
            "bottom": null,
            "_model_module": "@jupyter-widgets/base",
            "top": null,
            "grid_column": null,
            "overflow_y": null,
            "overflow_x": null,
            "grid_auto_flow": null,
            "grid_area": null,
            "grid_template_columns": null,
            "flex": null,
            "_model_name": "LayoutModel",
            "justify_items": null,
            "grid_row": null,
            "max_height": null,
            "align_content": null,
            "visibility": null,
            "align_self": null,
            "height": null,
            "min_height": null,
            "padding": null,
            "grid_auto_rows": null,
            "grid_gap": null,
            "max_width": null,
            "order": null,
            "_view_module_version": "1.2.0",
            "grid_template_areas": null,
            "object_position": null,
            "object_fit": null,
            "grid_auto_columns": null,
            "margin": null,
            "display": null,
            "left": null
          }
        },
        "71a1650586784d058fec80935c358d2e": {
          "model_module": "@jupyter-widgets/controls",
          "model_name": "DescriptionStyleModel",
          "state": {
            "_view_name": "StyleView",
            "_model_name": "DescriptionStyleModel",
            "description_width": "",
            "_view_module": "@jupyter-widgets/base",
            "_model_module_version": "1.5.0",
            "_view_count": null,
            "_view_module_version": "1.2.0",
            "_model_module": "@jupyter-widgets/controls"
          }
        },
        "36b90fa30baa45d7a81ba693ee8e1600": {
          "model_module": "@jupyter-widgets/base",
          "model_name": "LayoutModel",
          "state": {
            "_view_name": "LayoutView",
            "grid_template_rows": null,
            "right": null,
            "justify_content": null,
            "_view_module": "@jupyter-widgets/base",
            "overflow": null,
            "_model_module_version": "1.2.0",
            "_view_count": null,
            "flex_flow": null,
            "width": null,
            "min_width": null,
            "border": null,
            "align_items": null,
            "bottom": null,
            "_model_module": "@jupyter-widgets/base",
            "top": null,
            "grid_column": null,
            "overflow_y": null,
            "overflow_x": null,
            "grid_auto_flow": null,
            "grid_area": null,
            "grid_template_columns": null,
            "flex": null,
            "_model_name": "LayoutModel",
            "justify_items": null,
            "grid_row": null,
            "max_height": null,
            "align_content": null,
            "visibility": null,
            "align_self": null,
            "height": null,
            "min_height": null,
            "padding": null,
            "grid_auto_rows": null,
            "grid_gap": null,
            "max_width": null,
            "order": null,
            "_view_module_version": "1.2.0",
            "grid_template_areas": null,
            "object_position": null,
            "object_fit": null,
            "grid_auto_columns": null,
            "margin": null,
            "display": null,
            "left": null
          }
        }
      }
    }
  },
  "cells": [
    {
      "cell_type": "markdown",
      "metadata": {
        "id": "view-in-github",
        "colab_type": "text"
      },
      "source": [
        "<a href=\"https://colab.research.google.com/github/foxtrotmike/AS/blob/master/AS-final.ipynb\" target=\"_parent\"><img src=\"https://colab.research.google.com/assets/colab-badge.svg\" alt=\"Open In Colab\"/></a>"
      ]
    },
    {
      "cell_type": "code",
      "metadata": {
        "id": "2d1l7N_BMY5_",
        "colab_type": "code",
        "outputId": "282323f5-28e3-4b39-cc5e-ab26a4718670",
        "colab": {
          "base_uri": "https://localhost:8080/",
          "height": 584,
          "referenced_widgets": [
            "f586e3b566d1439a87d30ec47896dcbd",
            "125e77485f294e90af10f51a9406888f",
            "d078a64473194ce095b9ab1dcb46b9a4",
            "7b8dcca9e0564fe3a7b52f9178ee465a",
            "a877fc907f99486abee67213363bbfee",
            "fa304efbb4e7451e8ace13af990128b7",
            "71a1650586784d058fec80935c358d2e",
            "36b90fa30baa45d7a81ba693ee8e1600"
          ]
        }
      },
      "source": [
        "# -*- coding: utf-8 -*-\n",
        "\"\"\"\n",
        "Created on Thu Apr  2 17:32:46 2020\n",
        "np.array_split(idx, 2**v)\n",
        "@author: fayya\n",
        "\"\"\"\n",
        "\n",
        "import numpy as np\n",
        "from matplotlib import pyplot as plt\n",
        "from scipy.cluster.hierarchy import dendrogram\n",
        "from sklearn.datasets import load_iris\n",
        "from sklearn.cluster import AgglomerativeClustering\n",
        "from scipy.cluster import hierarchy\n",
        "import collections\n",
        "from sklearn.metrics import roc_auc_score, roc_curve\n",
        "from tqdm.notebook import tqdm\n",
        "def plot_dendrogram(model, **kwargs):\n",
        "    # Create linkage matrix and then plot the dendrogram\n",
        "\n",
        "    # create the counts of samples under each node\n",
        "    counts = np.zeros(model.children_.shape[0])\n",
        "    n_samples = len(model.labels_)\n",
        "    for i, merge in enumerate(model.children_):\n",
        "        current_count = 0\n",
        "        for child_idx in merge:\n",
        "            if child_idx < n_samples:\n",
        "                current_count += 1  # leaf node\n",
        "            else:\n",
        "                current_count += counts[child_idx - n_samples]\n",
        "        counts[i] = current_count\n",
        "\n",
        "    linkage_matrix = np.column_stack([model.children_, model.distances_,\n",
        "                                      counts]).astype(float)\n",
        "    \n",
        "    # Plot the corresponding dendrogram\n",
        "    if debug:\n",
        "      dendrogram(linkage_matrix, **kwargs)\n",
        "    return linkage_matrix\n",
        "\n",
        "def getChildrenLeaves(T):\n",
        "    if T.is_leaf():\n",
        "        return T.id\n",
        "    return (getChildrenLeaves(T.left),getChildrenLeaves(T.right))\n",
        "\n",
        "def flatten(l):\n",
        "    for el in l:\n",
        "        if isinstance(el, collections.Iterable) and not isinstance(el, (str, bytes)):\n",
        "            yield from flatten(el)\n",
        "        else:\n",
        "            yield el\n",
        "from collections import deque\n",
        "    \n",
        "def BFT(node,L,B):\n",
        "    node.level = 1\n",
        "    queue = deque([node])\n",
        "    output = []\n",
        "    current_level = node.level\n",
        "    n_tests = 0\n",
        "    while len(queue)>0:\n",
        "          current_node = queue.popleft()           \n",
        "          if(current_node.level > current_level):\n",
        "              output.append(\"\\n\")\n",
        "              current_level += 1\n",
        "\n",
        "          output.append(str(current_node.id)+',')\n",
        "\n",
        "          if current_node.left is not  None:\n",
        "             current_node.left.level = current_level + 1 \n",
        "             n_tests+=1\n",
        "             if current_node.left.is_leaf() or np.any(L[list(flatten(getChildrenLeaves(current_node.left)))]):      #testing the left half    \n",
        "                 queue.append(current_node.left) \n",
        "                 \n",
        "\n",
        "          if current_node.right is not None:\n",
        "             current_node.right.level = current_level + 1 \n",
        "             n_tests+=1\n",
        "             if current_node.right.is_leaf() or np.any(L[list(flatten(getChildrenLeaves(current_node.right)))]):  #testing the right half\n",
        "                 queue.append(current_node.right)  \n",
        "                                \n",
        " \n",
        "    return n_tests,''.join(output)\n",
        "def sigmoid(x):\n",
        "  #b = np.exp(2*x)\n",
        "  return x#;x*(x>0.2)#(b-np.min(b))/(np.max(b)-np.min(b))\n",
        "\n",
        "def simulate(N,p,n):\n",
        "    L = 1.0*(np.random.rand(N)<p) #original \"unknown\" labels (positive or negative)       \n",
        "    #Belief Settings\n",
        "    if n>=0:\n",
        "        B = L+0    \n",
        "        B[L==1]+=n*np.random.randn(np.sum(L==1))\n",
        "        B[L==0]+=n*np.random.randn(np.sum(L==0))\n",
        "    else:\n",
        "        B = np.random.rand(N)\n",
        "        \n",
        "    B = (B-np.min(B))/(np.max(B)-np.min(B))\n",
        "    idx = list(range(len(L)))\n",
        "    idx = np.argsort(B)    \n",
        "    B,L = B[idx], L[idx]\n",
        "\n",
        "    X = np.atleast_2d(sigmoid(B)).T\n",
        "    \n",
        "    # setting distance_threshold=0 ensures we compute the full tree.\n",
        "    model = AgglomerativeClustering(distance_threshold=0.0, n_clusters=None, linkage='ward').fit(X)\n",
        "    #plt.title('Hierarchical Clustering Dendrogram')\n",
        "    #plt.xlabel(\"Number of points in node (or index of point if no parenthesis).\")\n",
        "    #plt.show()\n",
        "    # plot the top three levels of the dendrogram\n",
        "    Z = plot_dendrogram(model, truncate_mode='level', p=-1)\n",
        "    R, nodelist = hierarchy.to_tree(Z, rd=True)      \n",
        "    \n",
        "    CC = getChildrenLeaves(R)\n",
        "    \n",
        "    n_tests,out = BFT(R,L,B)\n",
        "    try:\n",
        "      auc = roc_auc_score(L,B)\n",
        "    except ValueError as e:\n",
        "      #print(e)\n",
        "      auc = 0.0\n",
        "    \n",
        "    \n",
        "    if debug:\n",
        "        print(out)\n",
        "        print('####')\n",
        "        print(np.nonzero(L)[0])\n",
        "        print('####')\n",
        "        print(\"N:\",N)\n",
        "        print(\"Positives:\",np.sum(L))\n",
        "        print(\"Tests:\",n_tests)\n",
        "        bins=np.linspace(-5,5,20)\n",
        "        hp,bp = np.histogram(B[L==1],bins=bins,density=True)\n",
        "        hn,bn = np.histogram(B[L==0],bins=bins,density=True)\n",
        "        bins=bins[:-1]\n",
        "        #plt.figure();plt.plot(bins,hp,'r-');plt.plot(bins,hn,'b-');plt.show()    \n",
        "        fpr, tpr, thresholds = roc_curve(L, B)        \n",
        "        plt.figure();plt.plot(fpr,tpr);plt.title(str(auc))\n",
        "        plt.figure()\n",
        "        plt.plot(sigmoid(B))\n",
        "        \n",
        "    D = list(flatten([[int(n) for n in z.split(',') if len(n)] for z in out.split('\\n')]))\n",
        "    assert len(set(np.nonzero(L)[0]).difference(D))==0 #ensure that all are tested\n",
        "    #print(len(D),n_tests)\n",
        "    \n",
        "    #assert len(D)==n_tests #ensure that all are tested\n",
        "    return n_tests, auc, np.sum(L),(CC,L,B)\n",
        "    \n",
        "if __name__=='__main__':\n",
        "    debug = False\n",
        "    plt.close('all')\n",
        "    trials = 30\n",
        "    N =int(2**8)    \n",
        "    n = -0.8\n",
        "    Z = []\n",
        "    for p in tqdm(np.linspace(0.0001,1.0,30)):\n",
        "        z = []\n",
        "        for _ in range(trials):\n",
        "            T, auc,P,_ = simulate(N,p,n)\n",
        "            z.append((N,p,n,auc,P,T))\n",
        "        Z.append(z)\n",
        "    Z = np.array(Z)\n",
        "    auc = [np.mean(z[:,-3]) for z in Z]\n",
        "    x = [np.mean(z[:,1]) for z in Z]\n",
        "    xx = [round(xx,3) for xx in x]\n",
        "    y = [np.mean(z[:,-1]) for z in Z]\n",
        "    data = [z[:,-1] for z in Z]\n",
        "    fig = plt.figure(figsize=(20, 8))    \n",
        "    plt.plot(xx,y,'o-')\n",
        "    p = np.array(xx)\n",
        "    fp = 2*(N-1)*(1-2**(-6*p))\n",
        "    plt.plot(xx,fp)\n",
        "    plt.plot(xx,[N]*len(xx),'k')\n",
        "    plt.legend(['$T$','$t(p,N)=2(N-1)(1-2^{-6p})$','$N$'])\n",
        "    locs, labels = plt.xticks() \n",
        "    plt.boxplot(data, positions=xx, widths = (xx[2]-xx[1])/3,notch=False)\n",
        "    plt.xticks(xx)\n",
        "    plt.axis('tight')\n",
        "    plt.grid()#\n",
        "    \n",
        "    plt.xlim(min(xx)-0.05, max(xx)+0.05)\n",
        "    plt.ylim(0, np.max(y)+10)\n",
        "    plt.xlabel('$p$')\n",
        "    plt.ylabel('$T$')\n",
        "    plt.title('auc: '+str(round(np.mean(auc),2)))\n",
        "    plt.show()\n",
        "    plt.figure()\n",
        "    \n",
        "    \n",
        "\n",
        "    \n"
      ],
      "execution_count": 15,
      "outputs": [
        {
          "output_type": "display_data",
          "data": {
            "application/vnd.jupyter.widget-view+json": {
              "model_id": "f586e3b566d1439a87d30ec47896dcbd",
              "version_minor": 0,
              "version_major": 2
            },
            "text/plain": [
              "HBox(children=(IntProgress(value=0, max=30), HTML(value='')))"
            ]
          },
          "metadata": {
            "tags": []
          }
        },
        {
          "output_type": "stream",
          "text": [
            "\n"
          ],
          "name": "stdout"
        },
        {
          "output_type": "display_data",
          "data": {
            "image/png": "[encoded data removed]",
            "text/plain": [
              "<Figure size 1440x576 with 1 Axes>"
            ]
          },
          "metadata": {
            "tags": []
          }
        },
        {
          "output_type": "display_data",
          "data": {
            "text/plain": [
              "<Figure size 432x288 with 0 Axes>"
            ]
          },
          "metadata": {
            "tags": []
          }
        }
      ]
    },
    {
      "cell_type": "code",
      "metadata": {
        "id": "tukrdgEtMpPY",
        "colab_type": "code",
        "outputId": "f27ccceb-fdff-47db-ed36-d7c602e551b6",
        "colab": {
          "base_uri": "https://localhost:8080/",
          "height": 287
        }
      },
      "source": [
        "debug = False\n",
        "NN = 2**np.arange(2,11)\n",
        "p = 0.1\n",
        "Y = []\n",
        "trials = 200\n",
        "for N in NN:\n",
        "  tt = []\n",
        "  for _ in range(trials):\n",
        "    T, auc,P,out = simulate(N,p,-0.5)\n",
        "    tt.append(T)\n",
        "  Y.append(np.mean(tt))\n",
        "plt.plot(np.log2(NN),100*(NN-Y)/NN,'o-');plt.ylim(0,50);plt.grid();plt.xlabel(\"$log_2 N$\");plt.ylabel(\"Expected % test saving\");\n",
        "#print(out)\n",
        "#CC,L,B = out\n",
        "#print(len(L)-np.min(np.nonzero(L)[0]))\n",
        "#print(np.mean(len(L)-np.nonzero(L)[0])/len(L))"
      ],
      "execution_count": 38,
      "outputs": [
        {
          "output_type": "display_data",
          "data": {
            "image/png": "[encoded data removed]",
            "text/plain": [
              "<Figure size 432x288 with 1 Axes>"
            ]
          },
          "metadata": {
            "tags": []
          }
        }
      ]
    },
    {
      "cell_type": "code",
      "metadata": {
        "id": "348iuqt4QO6X",
        "colab_type": "code",
        "colab": {
          "base_uri": "https://localhost:8080/",
          "height": 324
        },
        "outputId": "c48276cf-404e-42cb-de3c-751ced6c3fbc"
      },
      "source": [
        "NN = 2**np.arange(1,10); y = [(-1/6)*np.log2(1-N/(2*(N-1))) for N in NN]; plt.plot(np.log2(NN),y,'o-');plt.ylim(0,0.5);plt.grid();plt.xlabel(\"$log_2 N$\");plt.ylabel(\"$p_{t(N,p)=N}$\");"
      ],
      "execution_count": 39,
      "outputs": [
        {
          "output_type": "stream",
          "text": [
            "/usr/local/lib/python3.6/dist-packages/ipykernel_launcher.py:1: RuntimeWarning: divide by zero encountered in log2\n",
            "  \"\"\"Entry point for launching an IPython kernel.\n"
          ],
          "name": "stderr"
        },
        {
          "output_type": "display_data",
          "data": {
            "image/png": "[encoded data removed]",
            "text/plain": [
              "<Figure size 432x288 with 1 Axes>"
            ]
          },
          "metadata": {
            "tags": []
          }
        }
      ]
    },
    {
      "cell_type": "code",
      "metadata": {
        "id": "DpUOwbfGQQPT",
        "colab_type": "code",
        "colab": {
          "base_uri": "https://localhost:8080/",
          "height": 283
        },
        "outputId": "d597a9b2-4927-4ea2-b9bd-03676db192b5"
      },
      "source": [
        "plt.plot(xx[:-2],[y[z]/y[z-1] for z in range(2,len(y))],)"
      ],
      "execution_count": 148,
      "outputs": [
        {
          "output_type": "execute_result",
          "data": {
            "text/plain": [
              "[<matplotlib.lines.Line2D at 0x7f8685213fd0>]"
            ]
          },
          "metadata": {
            "tags": []
          },
          "execution_count": 148
        },
        {
          "output_type": "display_data",
          "data": {
            "image/png": "[encoded data removed]",
            "text/plain": [
              "<Figure size 432x288 with 1 Axes>"
            ]
          },
          "metadata": {
            "tags": []
          }
        }
      ]
    },
    {
      "cell_type": "code",
      "metadata": {
        "id": "kESLmLgkRnjN",
        "colab_type": "code",
        "outputId": "d7b6c677-2660-4a1a-9e16-e37b91d912ca",
        "colab": {
          "base_uri": "https://localhost:8080/",
          "height": 35
        }
      },
      "source": [
        "best_vals"
      ],
      "execution_count": 84,
      "outputs": [
        {
          "output_type": "execute_result",
          "data": {
            "text/plain": [
              "array([861.03443195,  72.61506187])"
            ]
          },
          "metadata": {
            "tags": []
          },
          "execution_count": 84
        }
      ]
    },
    {
      "cell_type": "code",
      "metadata": {
        "id": "cmemQrhySTmq",
        "colab_type": "code",
        "outputId": "94e54409-76bc-4f8e-a9e3-0f5958bb7d93",
        "colab": {
          "base_uri": "https://localhost:8080/",
          "height": 171
        }
      },
      "source": [
        "CC"
      ],
      "execution_count": 0,
      "outputs": [
        {
          "output_type": "error",
          "ename": "NameError",
          "evalue": "ignored",
          "traceback": [
            "\u001b[0;31m---------------------------------------------------------------------------\u001b[0m",
            "\u001b[0;31mNameError\u001b[0m                                 Traceback (most recent call last)",
            "\u001b[0;32m<ipython-input-24-9ab349399595>\u001b[0m in \u001b[0;36m<module>\u001b[0;34m()\u001b[0m\n\u001b[0;32m----> 1\u001b[0;31m \u001b[0mCC\u001b[0m\u001b[0;34m\u001b[0m\u001b[0;34m\u001b[0m\u001b[0m\n\u001b[0m",
            "\u001b[0;31mNameError\u001b[0m: name 'CC' is not defined"
          ]
        }
      ]
    },
    {
      "cell_type": "code",
      "metadata": {
        "id": "RMdQiCiUSYs5",
        "colab_type": "code",
        "colab": {}
      },
      "source": [
        ""
      ],
      "execution_count": 0,
      "outputs": []
    }
  ]
}