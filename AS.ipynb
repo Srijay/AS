{
  "nbformat": 4,
  "nbformat_minor": 0,
  "metadata": {
    "colab": {
      "name": "AS.ipynb",
      "provenance": [],
      "authorship_tag": "ABX9TyPCRP12g6Gzd1K9kpp/qLJD",
      "include_colab_link": true
    },
    "kernelspec": {
      "name": "python3",
      "display_name": "Python 3"
    }
  },
  "cells": [
    {
      "cell_type": "markdown",
      "metadata": {
        "id": "view-in-github",
        "colab_type": "text"
      },
      "source": [
        "<a href=\"https://colab.research.google.com/github/foxtrotmike/AS/blob/master/AS.ipynb\" target=\"_parent\"><img src=\"https://colab.research.google.com/assets/colab-badge.svg\" alt=\"Open In Colab\"/></a>"
      ]
    },
    {
      "cell_type": "code",
      "metadata": {
        "id": "2d1l7N_BMY5_",
        "colab_type": "code",
        "colab": {
          "base_uri": "https://localhost:8080/",
          "height": 1000
        },
        "outputId": "7f7fc3ed-4765-4c7a-d81d-501e853e0092"
      },
      "source": [
        "# -*- coding: utf-8 -*-\n",
        "\"\"\"\n",
        "Created on Thu Apr  2 17:32:46 2020\n",
        "np.array_split(idx, 2**v)\n",
        "@author: fayya\n",
        "\"\"\"\n",
        "\n",
        "import numpy as np\n",
        "from matplotlib import pyplot as plt\n",
        "from scipy.cluster.hierarchy import dendrogram\n",
        "from sklearn.datasets import load_iris\n",
        "from sklearn.cluster import AgglomerativeClustering\n",
        "from scipy.cluster import hierarchy\n",
        "import collections\n",
        "from sklearn.metrics import roc_auc_score, roc_curve\n",
        "def plot_dendrogram(model, **kwargs):\n",
        "    # Create linkage matrix and then plot the dendrogram\n",
        "\n",
        "    # create the counts of samples under each node\n",
        "    counts = np.zeros(model.children_.shape[0])\n",
        "    n_samples = len(model.labels_)\n",
        "    for i, merge in enumerate(model.children_):\n",
        "        current_count = 0\n",
        "        for child_idx in merge:\n",
        "            if child_idx < n_samples:\n",
        "                current_count += 1  # leaf node\n",
        "            else:\n",
        "                current_count += counts[child_idx - n_samples]\n",
        "        counts[i] = current_count\n",
        "\n",
        "    linkage_matrix = np.column_stack([model.children_, model.distances_,\n",
        "                                      counts]).astype(float)\n",
        "    \n",
        "    # Plot the corresponding dendrogram\n",
        "    dendrogram(linkage_matrix, **kwargs)\n",
        "    return linkage_matrix\n",
        "\n",
        "def getChildrenLeaves(T):\n",
        "    if T.is_leaf():\n",
        "        return T.id\n",
        "    return (getChildrenLeaves(T.left),getChildrenLeaves(T.right))\n",
        "\n",
        "def flatten(l):\n",
        "    for el in l:\n",
        "        if isinstance(el, collections.Iterable) and not isinstance(el, (str, bytes)):\n",
        "            yield from flatten(el)\n",
        "        else:\n",
        "            yield el\n",
        "from collections import deque\n",
        "    \n",
        "def BFT(node,L):\n",
        "    node.level = 1\n",
        "    queue = deque([node])\n",
        "    output = []\n",
        "    current_level = node.level\n",
        "    n_tests = 0\n",
        "    while len(queue)>0:\n",
        "\n",
        "          current_node = queue.popleft()\n",
        "          n_tests+=1\n",
        "          if(current_node.level > current_level):\n",
        "              output.append(\"\\n\")\n",
        "              current_level += 1\n",
        "\n",
        "          output.append(str(current_node.id)+',')\n",
        "\n",
        "          if current_node.left is not  None:\n",
        "             current_node.left.level = current_level + 1 \n",
        "             if current_node.left.is_leaf() or np.any(L[list(flatten(getChildrenLeaves(current_node.left)))]):                 \n",
        "                 queue.append(current_node.left) \n",
        "                 \n",
        "\n",
        "          if current_node.right is not None:\n",
        "             current_node.right.level = current_level + 1 \n",
        "             if current_node.right.is_leaf() or np.any(L[list(flatten(getChildrenLeaves(current_node.right)))]):\n",
        "                 queue.append(current_node.right)                 \n",
        " \n",
        "    return n_tests,''.join(output)\n",
        "\n",
        "def simulate(N,p,n):\n",
        "    L = 1.0*(np.random.rand(N)<p) #original \"unknown\" labels (positive or negative)       \n",
        "    #Belief Settings\n",
        "    if n>=0:\n",
        "        B = L+0    \n",
        "        B[L==1]+=n*np.random.randn(np.sum(L==1))\n",
        "        B[L==0]+=n*np.random.randn(np.sum(L==0))\n",
        "    else:\n",
        "        B = np.random.rand(N)\n",
        "        \n",
        "    B = (B-np.min(B))/(np.max(B)-np.min(B))\n",
        "    idx = list(range(len(L)))\n",
        "    idx = np.argsort(B)    \n",
        "    B,L = B[idx], L[idx]\n",
        "\n",
        "    X = np.atleast_2d(B).T\n",
        "    \n",
        "    # setting distance_threshold=0 ensures we compute the full tree.\n",
        "    model = AgglomerativeClustering(distance_threshold=0, n_clusters=None, linkage='ward')\n",
        "    \n",
        "    model = model.fit(X)\n",
        "    #plt.title('Hierarchical Clustering Dendrogram')\n",
        "    #plt.xlabel(\"Number of points in node (or index of point if no parenthesis).\")\n",
        "    #plt.show()\n",
        "    # plot the top three levels of the dendrogram\n",
        "    Z = plot_dendrogram(model, truncate_mode='level', p=-1)\n",
        "    R, nodelist = hierarchy.to_tree(Z, rd=True)      \n",
        "    \n",
        "    #CC = getChildrenLeaves(R)\n",
        "    \n",
        "    n_tests,out = BFT(R,L)\n",
        "    auc = roc_auc_score(L,B)\n",
        "    \n",
        "    debug = True\n",
        "    if debug:\n",
        "        print(out)\n",
        "        print('####')\n",
        "        print(np.nonzero(L)[0])\n",
        "        print('####')\n",
        "        print(\"N:\",N)\n",
        "        print(\"Positives:\",np.sum(L))\n",
        "        print(\"Tests:\",n_tests)\n",
        "        bins=np.linspace(-5,5,20)\n",
        "        hp,bp = np.histogram(B[L==1],bins=bins,density=True)\n",
        "        hn,bn = np.histogram(B[L==0],bins=bins,density=True)\n",
        "        bins=bins[:-1]\n",
        "        #plt.figure();plt.plot(bins,hp,'r-');plt.plot(bins,hn,'b-');plt.show()    \n",
        "        fpr, tpr, thresholds = roc_curve(L, B)        \n",
        "        plt.figure();plt.plot(fpr,tpr);plt.title(str(auc))\n",
        "        1/0\n",
        "    D = list(flatten([[int(n) for n in z.split(',') if len(n)] for z in out.split('\\n')]))\n",
        "    assert len(set(np.nonzero(L)[0]).difference(D))==0 #ensure that all are tested\n",
        "    assert len(D)==n_tests #ensure that all are tested\n",
        "    return n_tests, auc, np.sum(L)\n",
        "    \n",
        "if __name__=='__main__':\n",
        "    plt.close('all')\n",
        "    trials = 10\n",
        "    N =int(2**7)    \n",
        "    n = -0.50\n",
        "    Z = []\n",
        "    for p in np.linspace(0.1,0.41,15):\n",
        "        z = []\n",
        "        for _ in range(trials):\n",
        "            T, auc,P = simulate(N,p,n)\n",
        "            z.append((N,p,n,auc,P,T))\n",
        "        Z.append(z)\n",
        "    Z = np.array(Z)\n",
        "    auc = [np.mean(z[:,-3]) for z in Z]\n",
        "    x = [np.mean(z[:,1]) for z in Z]\n",
        "    xx = [round(xx,3) for xx in x]\n",
        "    y = [np.mean(z[:,-1]) for z in Z]\n",
        "    data = [z[:,-1] for z in Z]\n",
        "    fig = plt.figure()    \n",
        "    plt.plot(xx,y,'o-')\n",
        "    plt.plot(xx,[N]*len(xx))\n",
        "    plt.legend(['T','N'])\n",
        "    locs, labels = plt.xticks() \n",
        "    plt.boxplot(data, positions=xx, widths = 0.02,notch=False)\n",
        "    plt.xticks(xx)\n",
        "    plt.axis('tight')\n",
        "    plt.grid()#\n",
        "    \n",
        "    plt.xlim(min(xx)-0.05, max(xx)+0.05)\n",
        "    plt.xlabel('$p$')\n",
        "    plt.ylabel('$T$')\n",
        "    plt.title('auc: '+str(round(np.mean(auc),2)))\n",
        "    plt.show()\n",
        "\n",
        "    \n"
      ],
      "execution_count": 1,
      "outputs": [
        {
          "output_type": "stream",
          "text": [
            "254,\n",
            "252,253,\n",
            "249,250,248,251,\n",
            "239,246,243,245,244,240,247,\n",
            "191,230,225,219,217,241,232,242,\n",
            "69,169,177,210,213,62,178,192,231,224,221,\n",
            "70,71,87,88,172,119,197,61,49,160,198,203,179,\n",
            "147,157,50,58,0,1,34,35,\n",
            "93,94,123,144,\n",
            "124,125,\n",
            "####\n",
            "[  0  34  50  58  61  71  87  94 119 124]\n",
            "####\n",
            "N: 128\n",
            "Positives: 10.0\n",
            "Tests: 60\n"
          ],
          "name": "stdout"
        },
        {
          "output_type": "error",
          "ename": "ZeroDivisionError",
          "evalue": "ignored",
          "traceback": [
            "\u001b[0;31m---------------------------------------------------------------------------\u001b[0m",
            "\u001b[0;31mZeroDivisionError\u001b[0m                         Traceback (most recent call last)",
            "\u001b[0;32m<ipython-input-1-d697cffbc49c>\u001b[0m in \u001b[0;36m<module>\u001b[0;34m()\u001b[0m\n\u001b[1;32m    141\u001b[0m         \u001b[0mz\u001b[0m \u001b[0;34m=\u001b[0m \u001b[0;34m[\u001b[0m\u001b[0;34m]\u001b[0m\u001b[0;34m\u001b[0m\u001b[0;34m\u001b[0m\u001b[0m\n\u001b[1;32m    142\u001b[0m         \u001b[0;32mfor\u001b[0m \u001b[0m_\u001b[0m \u001b[0;32min\u001b[0m \u001b[0mrange\u001b[0m\u001b[0;34m(\u001b[0m\u001b[0mtrials\u001b[0m\u001b[0;34m)\u001b[0m\u001b[0;34m:\u001b[0m\u001b[0;34m\u001b[0m\u001b[0;34m\u001b[0m\u001b[0m\n\u001b[0;32m--> 143\u001b[0;31m             \u001b[0mT\u001b[0m\u001b[0;34m,\u001b[0m \u001b[0mauc\u001b[0m\u001b[0;34m,\u001b[0m\u001b[0mP\u001b[0m \u001b[0;34m=\u001b[0m \u001b[0msimulate\u001b[0m\u001b[0;34m(\u001b[0m\u001b[0mN\u001b[0m\u001b[0;34m,\u001b[0m\u001b[0mp\u001b[0m\u001b[0;34m,\u001b[0m\u001b[0mn\u001b[0m\u001b[0;34m)\u001b[0m\u001b[0;34m\u001b[0m\u001b[0;34m\u001b[0m\u001b[0m\n\u001b[0m\u001b[1;32m    144\u001b[0m             \u001b[0mz\u001b[0m\u001b[0;34m.\u001b[0m\u001b[0mappend\u001b[0m\u001b[0;34m(\u001b[0m\u001b[0;34m(\u001b[0m\u001b[0mN\u001b[0m\u001b[0;34m,\u001b[0m\u001b[0mp\u001b[0m\u001b[0;34m,\u001b[0m\u001b[0mn\u001b[0m\u001b[0;34m,\u001b[0m\u001b[0mauc\u001b[0m\u001b[0;34m,\u001b[0m\u001b[0mP\u001b[0m\u001b[0;34m,\u001b[0m\u001b[0mT\u001b[0m\u001b[0;34m)\u001b[0m\u001b[0;34m)\u001b[0m\u001b[0;34m\u001b[0m\u001b[0;34m\u001b[0m\u001b[0m\n\u001b[1;32m    145\u001b[0m         \u001b[0mZ\u001b[0m\u001b[0;34m.\u001b[0m\u001b[0mappend\u001b[0m\u001b[0;34m(\u001b[0m\u001b[0mz\u001b[0m\u001b[0;34m)\u001b[0m\u001b[0;34m\u001b[0m\u001b[0;34m\u001b[0m\u001b[0m\n",
            "\u001b[0;32m<ipython-input-1-d697cffbc49c>\u001b[0m in \u001b[0;36msimulate\u001b[0;34m(N, p, n)\u001b[0m\n\u001b[1;32m    126\u001b[0m         \u001b[0mfpr\u001b[0m\u001b[0;34m,\u001b[0m \u001b[0mtpr\u001b[0m\u001b[0;34m,\u001b[0m \u001b[0mthresholds\u001b[0m \u001b[0;34m=\u001b[0m \u001b[0mroc_curve\u001b[0m\u001b[0;34m(\u001b[0m\u001b[0mL\u001b[0m\u001b[0;34m,\u001b[0m \u001b[0mB\u001b[0m\u001b[0;34m)\u001b[0m\u001b[0;34m\u001b[0m\u001b[0;34m\u001b[0m\u001b[0m\n\u001b[1;32m    127\u001b[0m         \u001b[0mplt\u001b[0m\u001b[0;34m.\u001b[0m\u001b[0mfigure\u001b[0m\u001b[0;34m(\u001b[0m\u001b[0;34m)\u001b[0m\u001b[0;34m;\u001b[0m\u001b[0mplt\u001b[0m\u001b[0;34m.\u001b[0m\u001b[0mplot\u001b[0m\u001b[0;34m(\u001b[0m\u001b[0mfpr\u001b[0m\u001b[0;34m,\u001b[0m\u001b[0mtpr\u001b[0m\u001b[0;34m)\u001b[0m\u001b[0;34m;\u001b[0m\u001b[0mplt\u001b[0m\u001b[0;34m.\u001b[0m\u001b[0mtitle\u001b[0m\u001b[0;34m(\u001b[0m\u001b[0mstr\u001b[0m\u001b[0;34m(\u001b[0m\u001b[0mauc\u001b[0m\u001b[0;34m)\u001b[0m\u001b[0;34m)\u001b[0m\u001b[0;34m\u001b[0m\u001b[0;34m\u001b[0m\u001b[0m\n\u001b[0;32m--> 128\u001b[0;31m         \u001b[0;36m1\u001b[0m\u001b[0;34m/\u001b[0m\u001b[0;36m0\u001b[0m\u001b[0;34m\u001b[0m\u001b[0;34m\u001b[0m\u001b[0m\n\u001b[0m\u001b[1;32m    129\u001b[0m     \u001b[0mD\u001b[0m \u001b[0;34m=\u001b[0m \u001b[0mlist\u001b[0m\u001b[0;34m(\u001b[0m\u001b[0mflatten\u001b[0m\u001b[0;34m(\u001b[0m\u001b[0;34m[\u001b[0m\u001b[0;34m[\u001b[0m\u001b[0mint\u001b[0m\u001b[0;34m(\u001b[0m\u001b[0mn\u001b[0m\u001b[0;34m)\u001b[0m \u001b[0;32mfor\u001b[0m \u001b[0mn\u001b[0m \u001b[0;32min\u001b[0m \u001b[0mz\u001b[0m\u001b[0;34m.\u001b[0m\u001b[0msplit\u001b[0m\u001b[0;34m(\u001b[0m\u001b[0;34m','\u001b[0m\u001b[0;34m)\u001b[0m \u001b[0;32mif\u001b[0m \u001b[0mlen\u001b[0m\u001b[0;34m(\u001b[0m\u001b[0mn\u001b[0m\u001b[0;34m)\u001b[0m\u001b[0;34m]\u001b[0m \u001b[0;32mfor\u001b[0m \u001b[0mz\u001b[0m \u001b[0;32min\u001b[0m \u001b[0mout\u001b[0m\u001b[0;34m.\u001b[0m\u001b[0msplit\u001b[0m\u001b[0;34m(\u001b[0m\u001b[0;34m'\\n'\u001b[0m\u001b[0;34m)\u001b[0m\u001b[0;34m]\u001b[0m\u001b[0;34m)\u001b[0m\u001b[0;34m)\u001b[0m\u001b[0;34m\u001b[0m\u001b[0;34m\u001b[0m\u001b[0m\n\u001b[1;32m    130\u001b[0m     \u001b[0;32massert\u001b[0m \u001b[0mlen\u001b[0m\u001b[0;34m(\u001b[0m\u001b[0mset\u001b[0m\u001b[0;34m(\u001b[0m\u001b[0mnp\u001b[0m\u001b[0;34m.\u001b[0m\u001b[0mnonzero\u001b[0m\u001b[0;34m(\u001b[0m\u001b[0mL\u001b[0m\u001b[0;34m)\u001b[0m\u001b[0;34m[\u001b[0m\u001b[0;36m0\u001b[0m\u001b[0;34m]\u001b[0m\u001b[0;34m)\u001b[0m\u001b[0;34m.\u001b[0m\u001b[0mdifference\u001b[0m\u001b[0;34m(\u001b[0m\u001b[0mD\u001b[0m\u001b[0;34m)\u001b[0m\u001b[0;34m)\u001b[0m\u001b[0;34m==\u001b[0m\u001b[0;36m0\u001b[0m \u001b[0;31m#ensure that all are tested\u001b[0m\u001b[0;34m\u001b[0m\u001b[0;34m\u001b[0m\u001b[0m\n",
            "\u001b[0;31mZeroDivisionError\u001b[0m: division by zero"
          ]
        },
        {
          "output_type": "display_data",
          "data": {
            "image/png": "[encoded data removed]",
            "text/plain": [
              "<Figure size 432x288 with 1 Axes>"
            ]
          },
          "metadata": {
            "tags": []
          }
        },
        {
          "output_type": "display_data",
          "data": {
            "image/png": "[encoded data removed]",
            "text/plain": [
              "<Figure size 432x288 with 1 Axes>"
            ]
          },
          "metadata": {
            "tags": []
          }
        }
      ]
    },
    {
      "cell_type": "code",
      "metadata": {
        "id": "tukrdgEtMpPY",
        "colab_type": "code",
        "colab": {}
      },
      "source": [
        ""
      ],
      "execution_count": 0,
      "outputs": []
    }
  ]
}